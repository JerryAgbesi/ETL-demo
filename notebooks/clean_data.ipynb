{
 "cells": [
  {
   "cell_type": "code",
   "execution_count": 1,
   "metadata": {},
   "outputs": [],
   "source": [
    "import os\n",
    "import pandas as pd"
   ]
  },
  {
   "cell_type": "code",
   "execution_count": 69,
   "metadata": {},
   "outputs": [],
   "source": [
    "cwd = os.getcwd()\n",
    "\n",
    "BASE_DIR = os.path.dirname(cwd)\n",
    "DATA_DIR = os.path.join(BASE_DIR,\"data\")\n",
    "CACHE_DIR = os.path.join(DATA_DIR,\"cached_data\")\n",
    "data_path = os.path.join(CACHE_DIR,\"movies-box-office-dataset.csv\")\n",
    "cleaned_data_path = os.path.join(CACHE_DIR,\"movies-box-office-dataset-cleaned.csv\")\n",
    "\n",
    "\n",
    "\n"
   ]
  },
  {
   "cell_type": "code",
   "execution_count": 14,
   "metadata": {},
   "outputs": [],
   "source": [
    "\n",
    "box_movies = pd.read_csv(data_path)\n",
    "\n",
    "box_movies['Rank'] = -1"
   ]
  },
  {
   "cell_type": "code",
   "execution_count": 32,
   "metadata": {},
   "outputs": [],
   "source": [
    "# box_movies['Domestic %'] = box_movies['%']\n",
    "# box_movies['Foreign %'] = box_movies['%.1'] \n",
    "box_movies['Domestic (in $)'] = box_movies['Domestic'] \n",
    "box_movies['Foreign (in $)'] = box_movies['Foreign'] \n",
    "\n",
    "box_movies.drop(['Domestic','Foreign'],axis=1,inplace=True)\n"
   ]
  },
  {
   "cell_type": "code",
   "execution_count": 40,
   "metadata": {},
   "outputs": [],
   "source": [
    "to_clean_cols = ['Worldwide','Domestic (in $)','Foreign (in $)']\n",
    "\n",
    "def convert_currency_str_to_int(current_str):\n",
    "    currency_val = current_str.replace('$','').replace(',','')\n",
    "    try:\n",
    "        currency_val = int(currency_val)\n",
    "    except:\n",
    "        currency_val = 0    \n",
    "    return currency_val\n",
    "\n",
    "\n",
    "\n",
    "def clean_cols(row):\n",
    "    for col in to_clean_cols:\n",
    "        row[col] = convert_currency_str_to_int(row[col])\n",
    "    return row\n",
    "\n",
    "box_movies_cleaned = box_movies.apply(clean_cols,axis=1)\n",
    " "
   ]
  },
  {
   "cell_type": "markdown",
   "metadata": {},
   "source": []
  },
  {
   "cell_type": "code",
   "execution_count": 53,
   "metadata": {},
   "outputs": [],
   "source": [
    "box_movies_cleaned.sort_values(by=['Worldwide'],ascending=False,inplace=True)\n",
    "\n",
    "# box_movies_cleaned.reset_index(inplace=True)\n",
    "box_movies_cleaned.drop(['level_0'],axis=1,inplace=True)\n"
   ]
  },
  {
   "cell_type": "code",
   "execution_count": 61,
   "metadata": {},
   "outputs": [],
   "source": [
    "box_movies_cleaned['Rank'] = box_movies_cleaned.index + 1\n",
    "box_movies_cleaned.set_index('Rank',inplace=True)"
   ]
  },
  {
   "cell_type": "code",
   "execution_count": 67,
   "metadata": {},
   "outputs": [],
   "source": [
    "box_movies_cleaned['Domestic %'] = box_movies_cleaned['Domestic (in $)']/box_movies_cleaned['Worldwide']\n",
    "box_movies_cleaned['Foreign %'] = box_movies_cleaned['Foreign (in $)']/box_movies_cleaned['Worldwide']"
   ]
  },
  {
   "cell_type": "code",
   "execution_count": 72,
   "metadata": {},
   "outputs": [],
   "source": [
    "box_movies_cleaned.to_csv(cleaned_data_path)"
   ]
  },
  {
   "cell_type": "code",
   "execution_count": 73,
   "metadata": {},
   "outputs": [
    {
     "data": {
      "text/plain": [
       "Release Group      Avengers: Age of Ultron\n",
       "Worldwide                       1402805868\n",
       "year                                  2015\n",
       "Domestic %                        0.327206\n",
       "Foreign %                         0.672794\n",
       "Domestic (in $)                  459005868\n",
       "Foreign (in $)                   943800000\n",
       "Name: 9, dtype: object"
      ]
     },
     "execution_count": 73,
     "metadata": {},
     "output_type": "execute_result"
    }
   ],
   "source": [
    "box_movies_cleaned.loc[9]\n",
    "# box_movies"
   ]
  }
 ],
 "metadata": {
  "kernelspec": {
   "display_name": "Python 3.10.6 64-bit",
   "language": "python",
   "name": "python3"
  },
  "language_info": {
   "codemirror_mode": {
    "name": "ipython",
    "version": 3
   },
   "file_extension": ".py",
   "mimetype": "text/x-python",
   "name": "python",
   "nbconvert_exporter": "python",
   "pygments_lexer": "ipython3",
   "version": "3.10.6"
  },
  "orig_nbformat": 4,
  "vscode": {
   "interpreter": {
    "hash": "916dbcbb3f70747c44a77c7bcd40155683ae19c65e1c03b4aa3499c5328201f1"
   }
  }
 },
 "nbformat": 4,
 "nbformat_minor": 2
}
